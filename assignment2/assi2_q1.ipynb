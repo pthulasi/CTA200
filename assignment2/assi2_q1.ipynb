{
 "cells": [
  {
   "cell_type": "markdown",
   "metadata": {},
   "source": [
    "# Question 1"
   ]
  },
  {
   "cell_type": "code",
   "execution_count": 7,
   "metadata": {},
   "outputs": [],
   "source": [
    "#packages \n",
    "import numpy as np\n",
    "from PIL import Image #built-in graphics package python"
   ]
  },
  {
   "cell_type": "code",
   "execution_count": 39,
   "metadata": {},
   "outputs": [],
   "source": [
    "def colour(i):\n",
    "    \"\"\"Returns a colour for diverging values of c depending on number of iterates before they diverge.\n",
    "    \n",
    "    input: integer i\n",
    "    output: int representing rgb colour code\n",
    "    \"\"\"\n",
    "    return i**3 #I found this function gave a nice gradient"
   ]
  },
  {
   "cell_type": "code",
   "execution_count": 64,
   "metadata": {},
   "outputs": [],
   "source": [
    "cap = 100 #max number of iterations before concluding convergence.\n",
    "z0 = 0\n",
    "def check(x,y, col):\n",
    "    \"\"\"Checks if c = x+yj causes divergence or not. If diverges, either \n",
    "    returns colour dependent on number of iterations before divergence if \n",
    "    col == True or returns white if False. If no divergence after cap \n",
    "    iterations, returns black.\n",
    "    \n",
    "    input: floats x, y; boolean col\n",
    "    output: tuple or int representing rgb colour code.\n",
    "    \"\"\"\n",
    "    z = z0\n",
    "    c = complex(x,y)\n",
    "    for i in range(cap):\n",
    "        z = z*z+c\n",
    "        if abs(z) > 2: #Proof that if there exists n such that abs(z_n) > 2, iteration diverges \n",
    "            #https://math.stackexchange.com/questions/890190/mandelbrot-sets-and-radius-of-convergence\n",
    "            if col == True:\n",
    "                return (int(np.floor(colour(i))), int(np.floor(colour(i)/5)), int(np.floor(colour(i)/0.5)))\n",
    "            return 0\n",
    "    return 255 #assuming that, after cap iterations with mag below 2, z_n converges"
   ]
  },
  {
   "cell_type": "code",
   "execution_count": 66,
   "metadata": {},
   "outputs": [],
   "source": [
    "lim = 2 #limits for x and y range.\n",
    "dim = 600 #dimensions \n",
    "plot1 = Image.new(\"1\", (dim,dim)) #black and white plot\n",
    "p1 = plot1.load()\n",
    "plot2 = Image.new(\"RGB\", (dim,dim)) #colour plot\n",
    "p2 = plot2.load()\n",
    "\n",
    "for x in range(dim):\n",
    "    for y in range(dim):\n",
    "        c = complex(x,y)\n",
    "        p1[x,y] = check(((2*lim)/dim*x-lim),((2*lim)/dim*y-lim), False)\n",
    "        p2[x,y] = check(((2*lim)/dim*x-lim),((2*lim)/dim*y-lim), True)\n",
    "#plot1.show()\n",
    "plot2.show()\n",
    "#plot1.save(\"plot_bw.png\")\n",
    "plot2.save(\"plot_rgb.png\")"
   ]
  },
  {
   "cell_type": "code",
   "execution_count": null,
   "metadata": {},
   "outputs": [],
   "source": []
  }
 ],
 "metadata": {
  "kernelspec": {
   "display_name": "Python 3",
   "language": "python",
   "name": "python3"
  },
  "language_info": {
   "codemirror_mode": {
    "name": "ipython",
    "version": 3
   },
   "file_extension": ".py",
   "mimetype": "text/x-python",
   "name": "python",
   "nbconvert_exporter": "python",
   "pygments_lexer": "ipython3",
   "version": "3.7.3"
  }
 },
 "nbformat": 4,
 "nbformat_minor": 1
}
